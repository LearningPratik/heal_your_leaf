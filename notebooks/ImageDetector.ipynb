{
 "cells": [
  {
   "cell_type": "code",
   "execution_count": 10,
   "id": "69982930-b88b-4c99-a072-df548b461b9d",
   "metadata": {},
   "outputs": [],
   "source": [
    "DATA_DIR = 'D:/DeepLearning/PyTorch/DiseaseDetection/data'"
   ]
  },
  {
   "cell_type": "markdown",
   "id": "8dc0ce88-a1e0-4afb-a0a0-3a6a01517cd9",
   "metadata": {},
   "source": [
    "# Transforming data"
   ]
  },
  {
   "cell_type": "code",
   "execution_count": 11,
   "id": "95312939-aa89-4cae-98fc-a30654929270",
   "metadata": {},
   "outputs": [],
   "source": [
    "import torch, torchvision\n",
    "from torchvision import datasets, transforms\n",
    "\n",
    "train_transform = transforms.Compose([\n",
    "    transforms.Resize(size=(128, 128)),\n",
    "    # transforms.RandomHorizontalFlip(p=0.5),\n",
    "    # transforms.RandomRotation(degrees=10),\n",
    "    # transforms.RandomResizedCrop(size=256, scale=(0.8, 1.0)),\n",
    "    # transforms.RandomInvert(p=0.5),\n",
    "    # transforms.TrivialAugmentWide(num_magnitude_bins=31),\n",
    "    transforms.ToTensor()\n",
    "])\n",
    "\n",
    "test_transform = transforms.Compose([\n",
    "    transforms.Resize(size = (128, 128)),\n",
    "    transforms.ToTensor()\n",
    "])"
   ]
  },
  {
   "cell_type": "code",
   "execution_count": 93,
   "id": "5fe520de-efe8-430a-b20e-6eb6c344018a",
   "metadata": {},
   "outputs": [],
   "source": [
    "train_dir = DATA_DIR+'/train'\n",
    "test_dir = DATA_DIR+'/test'"
   ]
  },
  {
   "cell_type": "code",
   "execution_count": 94,
   "id": "093cae75-6a30-4be5-a96e-f8921f708141",
   "metadata": {},
   "outputs": [],
   "source": [
    "train_data = datasets.ImageFolder(root = train_dir,\n",
    "                                  transform = train_transform, target_transform=None)\n",
    "\n",
    "test_data = datasets.ImageFolder(root = test_dir,\n",
    "                                 transform = test_transform, target_transform=None)"
   ]
  },
  {
   "cell_type": "code",
   "execution_count": 95,
   "id": "85f3a058-5c99-4648-ac83-ac4c95da2755",
   "metadata": {},
   "outputs": [
    {
     "name": "stdout",
     "output_type": "stream",
     "text": [
      "train data : Dataset ImageFolder\n",
      "    Number of datapoints: 1936\n",
      "    Root location: D:/DeepLearning/PyTorch/DiseaseDetection/data/train\n",
      "    StandardTransform\n",
      "Transform: Compose(\n",
      "               Resize(size=(128, 128), interpolation=bilinear, max_size=None, antialias=True)\n",
      "               ToTensor()\n",
      "           )\n",
      "\n",
      "test data : Dataset ImageFolder\n",
      "    Number of datapoints: 216\n",
      "    Root location: D:/DeepLearning/PyTorch/DiseaseDetection/data/test\n",
      "    StandardTransform\n",
      "Transform: Compose(\n",
      "               Resize(size=(128, 128), interpolation=bilinear, max_size=None, antialias=True)\n",
      "               ToTensor()\n",
      "           )\n"
     ]
    }
   ],
   "source": [
    "print(f'train data : {train_data}')\n",
    "print()\n",
    "print(f'test data : {test_data}')"
   ]
  },
  {
   "cell_type": "code",
   "execution_count": 96,
   "id": "2ff1fcc2-ed35-47f9-9df3-b68ddf9549e4",
   "metadata": {},
   "outputs": [
    {
     "data": {
      "text/plain": [
       "['Potato___Early_blight', 'Potato___Late_blight', 'Potato___healthy']"
      ]
     },
     "execution_count": 96,
     "metadata": {},
     "output_type": "execute_result"
    }
   ],
   "source": [
    "class_names = train_data.classes\n",
    "class_names"
   ]
  },
  {
   "cell_type": "code",
   "execution_count": 97,
   "id": "bc887a81-d4ce-46f5-b9eb-e36a661a5758",
   "metadata": {},
   "outputs": [
    {
     "data": {
      "text/plain": [
       "{'Potato___Early_blight': 0, 'Potato___Late_blight': 1, 'Potato___healthy': 2}"
      ]
     },
     "execution_count": 97,
     "metadata": {},
     "output_type": "execute_result"
    }
   ],
   "source": [
    "class_dict = train_data.class_to_idx\n",
    "class_dict"
   ]
  },
  {
   "cell_type": "markdown",
   "id": "e0661fd3-c49e-4002-8d3b-c43a8d7feb1c",
   "metadata": {},
   "source": [
    "# Data loader"
   ]
  },
  {
   "cell_type": "code",
   "execution_count": 98,
   "id": "6c4e1c4e-a623-47a5-9213-cba40a068650",
   "metadata": {},
   "outputs": [
    {
     "data": {
      "text/plain": [
       "(61, 7)"
      ]
     },
     "execution_count": 98,
     "metadata": {},
     "output_type": "execute_result"
    }
   ],
   "source": [
    "from torch.utils.data import DataLoader\n",
    "\n",
    "train_dataloader = DataLoader(train_data, batch_size = 32, shuffle = True, num_workers = os.cpu_count())\n",
    "test_dataloader = DataLoader(test_data, batch_size = 32, shuffle = False, num_workers = os.cpu_count())\n",
    "\n",
    "len(train_dataloader), len(test_dataloader)"
   ]
  },
  {
   "cell_type": "code",
   "execution_count": 99,
   "id": "e510dd13-43c9-4d2f-bff9-3b4dd321de8a",
   "metadata": {},
   "outputs": [],
   "source": [
    "def accuracy_func(y_true, y_pred):\n",
    "\n",
    "    correct = torch.eq(y_true, y_pred).sum().item()\n",
    "    acc = (correct / len(y_pred)) * 100\n",
    "    return acc"
   ]
  },
  {
   "cell_type": "markdown",
   "id": "fe6615e0-b4bb-402a-8952-8a3dc3f2785e",
   "metadata": {},
   "source": [
    "# Train function"
   ]
  },
  {
   "cell_type": "code",
   "execution_count": 174,
   "id": "6888f8ad-4be1-40a2-bfc1-510c9b6599cd",
   "metadata": {},
   "outputs": [],
   "source": [
    "from torch import nn\n",
    "from tqdm.auto import tqdm\n",
    "from timeit import default_timer as timer\n",
    "\n",
    "\n",
    "def train_model(model, dataloader, loss, optimizer, accuracy, epoch):\n",
    "\n",
    "    train_start_time = timer()\n",
    "    model.train()\n",
    "\n",
    "    for i in tqdm(range(epoch)):\n",
    "        train_loss, train_accuracy = 0, 0\n",
    "\n",
    "        for batch, (X, y) in enumerate(dataloader):\n",
    "\n",
    "            # prediction of model\n",
    "            y_pred = model(X)\n",
    "           # print(y.shape, y_pred.shape)\n",
    "\n",
    "            # calculating loss\n",
    "            train_loss = loss(y_pred, y)\n",
    "\n",
    "            # for every batch, accumulating only values to train_loss to get overall loss over all batches\n",
    "            train_loss = train_loss + train_loss.item()\n",
    "\n",
    "            # gradients to zero\n",
    "            optimizer.zero_grad()\n",
    "\n",
    "            # backpropagating\n",
    "            train_loss.backward()\n",
    "\n",
    "            # updating weights after backpropagation\n",
    "            optimizer.step()\n",
    "\n",
    "            train_acc = accuracy(y, y_pred.argmax(dim=1))\n",
    "            train_accuracy = train_accuracy + train_acc\n",
    "            \n",
    "        train_loss = train_loss / len(dataloader)\n",
    "        train_accuracy = train_accuracy / len(dataloader)\n",
    "\n",
    "        print(f'\\nEpoch : {i} | train accuracy : {train_accuracy} | train loss : {train_loss}')\n",
    "\n",
    "    train_end_time = timer() - train_start_time\n",
    "    print(f'\\ntrain ended in : {train_end_time}')"
   ]
  },
  {
   "cell_type": "code",
   "execution_count": 175,
   "id": "362d51a4-e271-47ef-a9e0-219cdddf8706",
   "metadata": {},
   "outputs": [],
   "source": [
    "# test_acc_list = []\n",
    "# test_loss_list = []\n",
    "\n",
    "def test_model(model, dataloader, loss_fn, accuracy_fn):\n",
    "    test_loss, test_accuracy = 0, 0\n",
    "\n",
    "    # putting model to evaluation mode to speed up prediction\n",
    "    model.eval()\n",
    "    with torch.inference_mode():\n",
    "        for batch, (X_test, y_test) in enumerate(dataloader):\n",
    "            test_pred = model(X_test)\n",
    "\n",
    "            print(y_test.shape, test_pred.shape)\n",
    "            loss = loss_fn(test_pred, y_test)\n",
    "            test_loss = test_loss + loss.item()\n",
    "            # test_loss_list.append(test_loss)\n",
    "            # Calculate and accumulate accuracy\n",
    "            test_acc = accuracy_fn(y_test, test_pred.argmax(dim=1))\n",
    "            test_accuracy = test_accuracy + test_acc\n",
    "            \n",
    "        test_loss /= len(dataloader)\n",
    "        test_accuracy /= len(dataloader)\n",
    "        print(f'test accuracy : {test_accuracy} | test loss : {test_loss}\\n')\n",
    "\n",
    "    # return {'model_name' : model.__class__.__name__,\n",
    "    #        'model_loss' : loss_fn.item(),\n",
    "    #    "
   ]
  },
  {
   "cell_type": "code",
   "execution_count": 176,
   "id": "6d9accb4-bee5-41e5-a314-d549aff3e1c0",
   "metadata": {},
   "outputs": [],
   "source": [
    "# test_model(model_1, test_dataloader, accuracy_func, loss_1)"
   ]
  },
  {
   "cell_type": "code",
   "execution_count": 177,
   "id": "4ae08412-8a2e-4819-89f3-662871c5f210",
   "metadata": {},
   "outputs": [],
   "source": [
    "class DiseaseDetector_1(nn.Module):\n",
    "\n",
    "    def __init__(self, input_shape, hidden_units, output_shape):\n",
    "        super().__init__()\n",
    "\n",
    "        self.conv_block_1 = nn.Sequential(\n",
    "            nn.Conv2d(in_channels = input_shape, out_channels = hidden_units, kernel_size = 3, stride = 1),\n",
    "            nn.ReLU(),\n",
    "            nn.BatchNorm2d(hidden_units),\n",
    "            nn.MaxPool2d(kernel_size = 2, stride = 1)\n",
    "        )\n",
    "\n",
    "        self.classifier = nn.Sequential(\n",
    "            nn.Flatten(),\n",
    "            nn.Linear(in_features = hidden_units*125*125, out_features = output_shape)\n",
    "        )\n",
    "\n",
    "    def forward(self, x):\n",
    "         x = self.conv_block_1(x)\n",
    "        # print(x.shape)\n",
    "         x = self.classifier(x)\n",
    "         return x"
   ]
  },
  {
   "cell_type": "code",
   "execution_count": 178,
   "id": "1fb61878-6d67-46bf-a6b8-7669e279971f",
   "metadata": {},
   "outputs": [
    {
     "data": {
      "text/plain": [
       "DiseaseDetector_1(\n",
       "  (conv_block_1): Sequential(\n",
       "    (0): Conv2d(3, 3, kernel_size=(3, 3), stride=(1, 1))\n",
       "    (1): ReLU()\n",
       "    (2): BatchNorm2d(3, eps=1e-05, momentum=0.1, affine=True, track_running_stats=True)\n",
       "    (3): MaxPool2d(kernel_size=2, stride=1, padding=0, dilation=1, ceil_mode=False)\n",
       "  )\n",
       "  (classifier): Sequential(\n",
       "    (0): Flatten(start_dim=1, end_dim=-1)\n",
       "    (1): Linear(in_features=46875, out_features=3, bias=True)\n",
       "  )\n",
       ")"
      ]
     },
     "execution_count": 178,
     "metadata": {},
     "output_type": "execute_result"
    }
   ],
   "source": [
    "model_1 = DiseaseDetector_1(input_shape = 3, hidden_units=3, output_shape=len(train_data.classes))\n",
    "model_1"
   ]
  },
  {
   "cell_type": "code",
   "execution_count": 179,
   "id": "d9fe3498-9e4b-46f1-9897-47d7c8a0a51d",
   "metadata": {},
   "outputs": [
    {
     "data": {
      "text/plain": [
       "=================================================================\n",
       "Layer (type:depth-idx)                   Param #\n",
       "=================================================================\n",
       "DiseaseDetector_1                        --\n",
       "├─Sequential: 1-1                        --\n",
       "│    └─Conv2d: 2-1                       84\n",
       "│    └─ReLU: 2-2                         --\n",
       "│    └─BatchNorm2d: 2-3                  6\n",
       "│    └─MaxPool2d: 2-4                    --\n",
       "├─Sequential: 1-2                        --\n",
       "│    └─Flatten: 2-5                      --\n",
       "│    └─Linear: 2-6                       140,628\n",
       "=================================================================\n",
       "Total params: 140,718\n",
       "Trainable params: 140,718\n",
       "Non-trainable params: 0\n",
       "================================================================="
      ]
     },
     "execution_count": 179,
     "metadata": {},
     "output_type": "execute_result"
    }
   ],
   "source": [
    "# Install torchinfo if it's not available, import it if it is\n",
    "try: \n",
    "    import torchinfo\n",
    "except:\n",
    "    !pip install torchinfo\n",
    "    import torchinfo\n",
    "    \n",
    "from torchinfo import summary\n",
    "summary(model_1) # do a test pass through of an example input size "
   ]
  },
  {
   "cell_type": "markdown",
   "id": "5be9cb61-385b-48cb-b028-bb69deac73b0",
   "metadata": {},
   "source": [
    "# Defining loss and optimizer"
   ]
  },
  {
   "cell_type": "code",
   "execution_count": 180,
   "id": "23516f7f-a25e-4051-86d0-144688790114",
   "metadata": {},
   "outputs": [],
   "source": [
    "loss_1 = nn.CrossEntropyLoss()\n",
    "optim_1 = torch.optim.Adam(model_1.parameters(), lr = 0.002)"
   ]
  },
  {
   "cell_type": "code",
   "execution_count": 181,
   "id": "50628d35-7bae-44bd-a888-013d1a19a8b1",
   "metadata": {},
   "outputs": [
    {
     "data": {
      "application/vnd.jupyter.widget-view+json": {
       "model_id": "99df8ca1e90640a39a702a80889c1bb6",
       "version_major": 2,
       "version_minor": 0
      },
      "text/plain": [
       "  0%|          | 0/10 [00:00<?, ?it/s]"
      ]
     },
     "metadata": {},
     "output_type": "display_data"
    },
    {
     "name": "stdout",
     "output_type": "stream",
     "text": [
      "\n",
      "Epoch : 0 | train accuracy : 73.51434426229508 | train loss : 0.014365853741765022\n",
      "\n",
      "Epoch : 1 | train accuracy : 83.60655737704919 | train loss : 0.04304688796401024\n",
      "\n",
      "Epoch : 2 | train accuracy : 89.9077868852459 | train loss : 0.005443120375275612\n",
      "\n",
      "Epoch : 3 | train accuracy : 90.21516393442623 | train loss : 0.009090904146432877\n",
      "\n",
      "Epoch : 4 | train accuracy : 94.51844262295081 | train loss : 0.010834908112883568\n",
      "\n",
      "Epoch : 5 | train accuracy : 93.13524590163935 | train loss : 0.012112084776163101\n",
      "\n",
      "Epoch : 6 | train accuracy : 96.46516393442623 | train loss : 0.003410981735214591\n",
      "\n",
      "Epoch : 7 | train accuracy : 96.72131147540983 | train loss : 1.1620282748481259e-05\n",
      "\n",
      "Epoch : 8 | train accuracy : 98.87295081967213 | train loss : 0.00020152218348812312\n",
      "\n",
      "Epoch : 9 | train accuracy : 99.12909836065573 | train loss : 4.7636008275731e-06\n",
      "\n",
      "train ended in : 610.9098223999608\n"
     ]
    }
   ],
   "source": [
    "torch.manual_seed(42)\n",
    "\n",
    "train_model(model_1, train_dataloader, loss_1, optim_1, accuracy_func, 10)"
   ]
  },
  {
   "cell_type": "code",
   "execution_count": 182,
   "id": "6a09e028-e152-4e1f-891f-1d0a3358a5a6",
   "metadata": {},
   "outputs": [
    {
     "data": {
      "text/plain": [
       "[WindowsPath('D:/DeepLearning/PyTorch/DiseaseDetection/data/test/Potato___Early_blight/009c8c31-f22d-4ffd-8f16-189c6f06c577___RS_Early.B 7885.JPG'),\n",
       " WindowsPath('D:/DeepLearning/PyTorch/DiseaseDetection/data/test/Potato___Early_blight/03b0d3c1-b5b0-48f4-98aa-f8904670290f___RS_Early.B 7051.JPG'),\n",
       " WindowsPath('D:/DeepLearning/PyTorch/DiseaseDetection/data/test/Potato___Early_blight/0604174e-3018-4faa-9975-0be32d2c0789___RS_Early.B 7123.JPG'),\n",
       " WindowsPath('D:/DeepLearning/PyTorch/DiseaseDetection/data/test/Potato___Early_blight/096a2c48-104c-4570-9e34-8dd60aa5ebcf___RS_Early.B 6979.JPG')]"
      ]
     },
     "execution_count": 182,
     "metadata": {},
     "output_type": "execute_result"
    }
   ],
   "source": [
    "test_data_path = list(Path(test_dir).glob('*/*.JPG'))\n",
    "test_data_path[:4]"
   ]
  },
  {
   "cell_type": "code",
   "execution_count": 183,
   "id": "0197afdc-54c1-4720-8e76-adcc3036febd",
   "metadata": {},
   "outputs": [],
   "source": [
    "def pred_and_store(paths, model, transform, class_names):\n",
    "\n",
    "    pred_list = []\n",
    "    for path in tqdm(paths):\n",
    "        \n",
    "        # 4. Create empty dictionary to store prediction information for each sample\n",
    "        pred_dict = {}\n",
    "\n",
    "        pred_dict['image_path'] = path\n",
    "        class_name = path.parent.stem\n",
    "        pred_dict['class_name'] = class_name\n",
    "\n",
    "        start_time = timer()\n",
    "\n",
    "        img = Image.open(path)\n",
    "        transformed_image = transform(img).unsqueeze(0)\n",
    "\n",
    "        model.eval()\n",
    "\n",
    "        with torch.inference_mode():\n",
    "            pred_logit = model(transformed_image)\n",
    "            pred_prob = torch.softmax(pred_logit, dim=1)\n",
    "            pred_label = torch.argmax(pred_prob, dim=1)\n",
    "            pred_class = class_names[pred_label]\n",
    "\n",
    "            # 11. Make sure things in the dictionary are on CPU (required for inspecting predictions later on)\n",
    "            pred_dict[\"pred_prob\"] = round(pred_prob.unsqueeze(0).max().cpu().item(), 4)\n",
    "            pred_dict[\"pred_class\"] = pred_class\n",
    "\n",
    "             # 12. End the timer and calculate time per pred\n",
    "            end_time = timer()\n",
    "            pred_dict[\"time_for_pred\"] = round(end_time-start_time, 4)\n",
    "\n",
    "        pred_dict[\"correct\"] = class_name == pred_class\n",
    "\n",
    "        # 14. Add the dictionary to the list of preds\n",
    "        pred_list.append(pred_dict)\n",
    "        \n",
    "    return pred_list"
   ]
  },
  {
   "cell_type": "code",
   "execution_count": 184,
   "id": "7b0d5a90-4547-47f9-891a-c313a7ee9abf",
   "metadata": {},
   "outputs": [
    {
     "data": {
      "application/vnd.jupyter.widget-view+json": {
       "model_id": "3494cc5ec1a441f3b9e732c762a863ba",
       "version_major": 2,
       "version_minor": 0
      },
      "text/plain": [
       "  0%|          | 0/216 [00:00<?, ?it/s]"
      ]
     },
     "metadata": {},
     "output_type": "display_data"
    }
   ],
   "source": [
    "model_pred = pred_and_store(test_data_path, model_1, test_transform, class_names)"
   ]
  },
  {
   "cell_type": "code",
   "execution_count": 185,
   "id": "7a336670-01c1-4caa-9b0d-727c9ff19b69",
   "metadata": {},
   "outputs": [
    {
     "data": {
      "text/html": [
       "<div>\n",
       "<style scoped>\n",
       "    .dataframe tbody tr th:only-of-type {\n",
       "        vertical-align: middle;\n",
       "    }\n",
       "\n",
       "    .dataframe tbody tr th {\n",
       "        vertical-align: top;\n",
       "    }\n",
       "\n",
       "    .dataframe thead th {\n",
       "        text-align: right;\n",
       "    }\n",
       "</style>\n",
       "<table border=\"1\" class=\"dataframe\">\n",
       "  <thead>\n",
       "    <tr style=\"text-align: right;\">\n",
       "      <th></th>\n",
       "      <th>image_path</th>\n",
       "      <th>class_name</th>\n",
       "      <th>pred_prob</th>\n",
       "      <th>pred_class</th>\n",
       "      <th>time_for_pred</th>\n",
       "      <th>correct</th>\n",
       "    </tr>\n",
       "  </thead>\n",
       "  <tbody>\n",
       "    <tr>\n",
       "      <th>31</th>\n",
       "      <td>D:\\DeepLearning\\PyTorch\\DiseaseDetection\\data\\...</td>\n",
       "      <td>Potato___Early_blight</td>\n",
       "      <td>1.0000</td>\n",
       "      <td>Potato___Early_blight</td>\n",
       "      <td>0.0106</td>\n",
       "      <td>True</td>\n",
       "    </tr>\n",
       "    <tr>\n",
       "      <th>27</th>\n",
       "      <td>D:\\DeepLearning\\PyTorch\\DiseaseDetection\\data\\...</td>\n",
       "      <td>Potato___Early_blight</td>\n",
       "      <td>1.0000</td>\n",
       "      <td>Potato___Early_blight</td>\n",
       "      <td>0.0157</td>\n",
       "      <td>True</td>\n",
       "    </tr>\n",
       "    <tr>\n",
       "      <th>104</th>\n",
       "      <td>D:\\DeepLearning\\PyTorch\\DiseaseDetection\\data\\...</td>\n",
       "      <td>Potato___healthy</td>\n",
       "      <td>0.9987</td>\n",
       "      <td>Potato___Late_blight</td>\n",
       "      <td>0.0109</td>\n",
       "      <td>False</td>\n",
       "    </tr>\n",
       "    <tr>\n",
       "      <th>207</th>\n",
       "      <td>D:\\DeepLearning\\PyTorch\\DiseaseDetection\\data\\...</td>\n",
       "      <td>Potato___Late_blight</td>\n",
       "      <td>1.0000</td>\n",
       "      <td>Potato___Late_blight</td>\n",
       "      <td>0.0107</td>\n",
       "      <td>True</td>\n",
       "    </tr>\n",
       "  </tbody>\n",
       "</table>\n",
       "</div>"
      ],
      "text/plain": [
       "                                            image_path             class_name  \\\n",
       "31   D:\\DeepLearning\\PyTorch\\DiseaseDetection\\data\\...  Potato___Early_blight   \n",
       "27   D:\\DeepLearning\\PyTorch\\DiseaseDetection\\data\\...  Potato___Early_blight   \n",
       "104  D:\\DeepLearning\\PyTorch\\DiseaseDetection\\data\\...       Potato___healthy   \n",
       "207  D:\\DeepLearning\\PyTorch\\DiseaseDetection\\data\\...   Potato___Late_blight   \n",
       "\n",
       "     pred_prob             pred_class  time_for_pred  correct  \n",
       "31      1.0000  Potato___Early_blight         0.0106     True  \n",
       "27      1.0000  Potato___Early_blight         0.0157     True  \n",
       "104     0.9987   Potato___Late_blight         0.0109    False  \n",
       "207     1.0000   Potato___Late_blight         0.0107     True  "
      ]
     },
     "execution_count": 185,
     "metadata": {},
     "output_type": "execute_result"
    }
   ],
   "source": [
    "# import pandas as pd\n",
    "\n",
    "# model_test_pred_df = pd.DataFrame(model_pred)\n",
    "# tinyvgg_test_pred_df[tinyvgg_test_pred_df['correct'] == True].shape\n",
    "model_test_pred_df.sample(4)"
   ]
  },
  {
   "cell_type": "code",
   "execution_count": 186,
   "id": "ee9779c9-37f5-4251-a8fc-7e36b86cf8e7",
   "metadata": {},
   "outputs": [
    {
     "data": {
      "text/plain": [
       "correct\n",
       "True     179\n",
       "False     37\n",
       "Name: count, dtype: int64"
      ]
     },
     "execution_count": 186,
     "metadata": {},
     "output_type": "execute_result"
    }
   ],
   "source": [
    "model_test_pred_df['correct'].value_counts()"
   ]
  },
  {
   "cell_type": "code",
   "execution_count": 187,
   "id": "7340527e-4b13-4611-a3fc-70abbb516864",
   "metadata": {},
   "outputs": [
    {
     "data": {
      "application/vnd.jupyter.widget-view+json": {
       "model_id": "a0abd5eeba2c47009627af0513cf81af",
       "version_major": 2,
       "version_minor": 0
      },
      "text/plain": [
       "making predictions:   0%|          | 0/7 [00:01<?, ?it/s]"
      ]
     },
     "metadata": {},
     "output_type": "display_data"
    },
    {
     "data": {
      "text/plain": [
       "tensor([2, 0, 2, 0, 1])"
      ]
     },
     "execution_count": 187,
     "metadata": {},
     "output_type": "execute_result"
    }
   ],
   "source": [
    "y_preds = []\n",
    "model_1.eval()\n",
    "with torch.inference_mode():\n",
    "  for X, y in tqdm(test_dataloader, desc = 'making predictions'):\n",
    "    y_logits = model_1(X)\n",
    "    y_pred = torch.softmax(y_logits.squeeze(), dim=0).argmax(dim=1)\n",
    "    y_preds.append(y_pred)\n",
    "\n",
    "y_pred_tensor = torch.cat(y_preds)\n",
    "y_pred_tensor[:5]"
   ]
  },
  {
   "cell_type": "code",
   "execution_count": 188,
   "id": "c261a74b-a7f8-424d-b50d-bb8854c8b443",
   "metadata": {},
   "outputs": [],
   "source": [
    "# try:\n",
    "#     import torchmetrics\n",
    "# except:\n",
    "#     !pip install torchmetrics\n",
    "#     import torchmetrics"
   ]
  },
  {
   "cell_type": "code",
   "execution_count": 189,
   "id": "a2c9582d-69ba-486e-bfb4-cdee5aa91fd1",
   "metadata": {},
   "outputs": [],
   "source": [
    "# try:\n",
    "#     import mlxtend\n",
    "# except:\n",
    "#     !pip install mlxtend\n",
    "#     import mlxtend"
   ]
  },
  {
   "cell_type": "code",
   "execution_count": 190,
   "id": "fb490b82-4a9c-4a45-b81b-f035ff543f76",
   "metadata": {},
   "outputs": [],
   "source": [
    "import numpy as np\n",
    "from torchmetrics import ConfusionMatrix\n",
    "from mlxtend.plotting import plot_confusion_matrix"
   ]
  },
  {
   "cell_type": "code",
   "execution_count": 191,
   "id": "e0d800cd-73c3-4662-ba93-3f822855c86d",
   "metadata": {},
   "outputs": [
    {
     "data": {
      "image/png": "[encoded data removed]",
      "text/plain": [
       "<Figure size 1000x700 with 1 Axes>"
      ]
     },
     "metadata": {},
     "output_type": "display_data"
    }
   ],
   "source": [
    "confmat = ConfusionMatrix(task=\"multiclass\", num_classes = 3)\n",
    "cm = confmat(y_pred_tensor, torch.tensor(test_data.targets))\n",
    "\n",
    "fig, ax = plot_confusion_matrix(conf_mat = cm.numpy(),\n",
    "                                class_names = class_names,\n",
    "                                figsize=(10, 7), cmap = 'seismic_r')"
   ]
  },
  {
   "cell_type": "code",
   "execution_count": 192,
   "id": "5dcb319a-0d9f-4fb0-8dd6-46e23a143731",
   "metadata": {},
   "outputs": [
    {
     "data": {
      "text/plain": [
       "tensor(0.3720)"
      ]
     },
     "execution_count": 192,
     "metadata": {},
     "output_type": "execute_result"
    }
   ],
   "source": [
    "from torchmetrics.classification import MulticlassPrecision\n",
    "mcp = MulticlassPrecision(num_classes=3)\n",
    "mcp(y_pred_tensor, torch.tensor(test_data.targets))"
   ]
  },
  {
   "cell_type": "code",
   "execution_count": 193,
   "id": "ef397bf5-a88d-463f-85ca-06754c930f64",
   "metadata": {},
   "outputs": [],
   "source": [
    "model_path = DATA_DIR + '/models'\n",
    "torch.save(model_1, model_path)"
   ]
  },
  {
   "cell_type": "code",
   "execution_count": 157,
   "id": "8198cbc9-7c96-4f3e-9719-88ece622b5d6",
   "metadata": {},
   "outputs": [
    {
     "data": {
      "text/plain": [
       "RecursiveScriptModule(\n",
       "  original_name=DiseaseDetector_1\n",
       "  (conv_block_1): RecursiveScriptModule(\n",
       "    original_name=Sequential\n",
       "    (0): RecursiveScriptModule(original_name=Conv2d)\n",
       "    (1): RecursiveScriptModule(original_name=ReLU)\n",
       "    (2): RecursiveScriptModule(original_name=BatchNorm2d)\n",
       "    (3): RecursiveScriptModule(original_name=MaxPool2d)\n",
       "  )\n",
       "  (classifier): RecursiveScriptModule(\n",
       "    original_name=Sequential\n",
       "    (0): RecursiveScriptModule(original_name=Flatten)\n",
       "    (1): RecursiveScriptModule(original_name=Linear)\n",
       "  )\n",
       ")"
      ]
     },
     "execution_count": 157,
     "metadata": {},
     "output_type": "execute_result"
    }
   ],
   "source": [
    "model_1_scripted = torch.jit.script(model_1) # Export to TorchScript\n",
    "model_1_scripted.save('model_1_scripted.pt') # Save\n",
    "\n",
    "# Loading model\n",
    "model = torch.jit.load('model_1_scripted.pt')\n",
    "model.eval()"
   ]
  },
  {
   "cell_type": "code",
   "execution_count": null,
   "id": "73c870a3-c959-4bdf-b25a-30b5610ba533",
   "metadata": {},
   "outputs": [],
   "source": []
  }
 ],
 "metadata": {
  "kernelspec": {
   "display_name": "Python 3 (ipykernel)",
   "language": "python",
   "name": "python3"
  },
  "language_info": {
   "codemirror_mode": {
    "name": "ipython",
    "version": 3
   },
   "file_extension": ".py",
   "mimetype": "text/x-python",
   "name": "python",
   "nbconvert_exporter": "python",
   "pygments_lexer": "ipython3",
   "version": "3.12.3"
  }
 },
 "nbformat": 4,
 "nbformat_minor": 5
}
